{
 "cells": [
  {
   "cell_type": "markdown",
   "metadata": {},
   "source": [
    "# Métodos de Classes e Estáticos"
   ]
  },
  {
   "cell_type": "code",
   "execution_count": 9,
   "metadata": {},
   "outputs": [],
   "source": [
    "class Funcionario():\n",
    "  aumento = 1.04\n",
    "  \n",
    "  def __init__(self, nome, salario):\n",
    "    self.nome = nome\n",
    "    self.salario = salario\n",
    "  \n",
    "  def dados(self):\n",
    "    return {'nome': self.nome, 'salário': self.salario}\n",
    "  \n",
    "  def aplicar_aumento(self):\n",
    "    self.salario = self.salario * self.aumento\n",
    "    \n",
    "  @classmethod\n",
    "  def definit_novo_aumneto(cls, novo_aumneto):\n",
    "    cls.aumento = novo_aumneto\n",
    "    \n",
    "  @staticmethod\n",
    "  def dia_util(dia):\n",
    "    # segunda-feira = 0\n",
    "    # sabado = 5\n",
    "    # domingo = 6\n",
    "    \n",
    "    if dia.weekday() == 5 or dia.weekday() == 6:\n",
    "      return False\n",
    "    \n",
    "    return True"
   ]
  },
  {
   "cell_type": "code",
   "execution_count": 7,
   "metadata": {},
   "outputs": [],
   "source": [
    "fabito = Funcionario('Fabito', 10000)"
   ]
  },
  {
   "cell_type": "code",
   "execution_count": 8,
   "metadata": {},
   "outputs": [
    {
     "data": {
      "text/plain": [
       "{'nome': 'Fabito', 'salário': 10500.0}"
      ]
     },
     "execution_count": 8,
     "metadata": {},
     "output_type": "execute_result"
    }
   ],
   "source": [
    "fabito.aplicar_aumento()\n",
    "fabito.dados()"
   ]
  },
  {
   "cell_type": "code",
   "execution_count": 6,
   "metadata": {},
   "outputs": [],
   "source": [
    "Funcionario.definit_novo_aumneto(1.05)"
   ]
  },
  {
   "cell_type": "code",
   "execution_count": 14,
   "metadata": {},
   "outputs": [],
   "source": [
    "import datetime\n",
    "minha_data = datetime.date(2021, 12, 14)"
   ]
  },
  {
   "cell_type": "code",
   "execution_count": 15,
   "metadata": {},
   "outputs": [
    {
     "data": {
      "text/plain": [
       "True"
      ]
     },
     "execution_count": 15,
     "metadata": {},
     "output_type": "execute_result"
    }
   ],
   "source": [
    "Funcionario.dia_util(minha_data)"
   ]
  }
 ],
 "metadata": {
  "interpreter": {
   "hash": "5a5144c600fe733eb56476d039d50287f74ed68a6f7bfea1242be2f9714b1df5"
  },
  "kernelspec": {
   "display_name": "Python 3.8.10 64-bit (windows store)",
   "language": "python",
   "name": "python3"
  },
  "language_info": {
   "codemirror_mode": {
    "name": "ipython",
    "version": 3
   },
   "file_extension": ".py",
   "mimetype": "text/x-python",
   "name": "python",
   "nbconvert_exporter": "python",
   "pygments_lexer": "ipython3",
   "version": "3.8.10"
  },
  "orig_nbformat": 4
 },
 "nbformat": 4,
 "nbformat_minor": 2
}
