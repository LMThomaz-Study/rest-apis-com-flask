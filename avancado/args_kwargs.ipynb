{
 "cells": [
  {
   "cell_type": "markdown",
   "metadata": {},
   "source": [
    "# args e kwargs\n",
    "- args => argumentos\n",
    "- kwargs => Keyword arguments (argumentos de palavras-chave)"
   ]
  },
  {
   "cell_type": "code",
   "execution_count": 1,
   "metadata": {},
   "outputs": [
    {
     "data": {
      "text/plain": [
       "9"
      ]
     },
     "execution_count": 1,
     "metadata": {},
     "output_type": "execute_result"
    }
   ],
   "source": [
    "def meu_metodo(arg1, arg2):\n",
    "  return arg1 + arg2\n",
    "\n",
    "meu_metodo(5,4)"
   ]
  },
  {
   "cell_type": "code",
   "execution_count": 2,
   "metadata": {},
   "outputs": [
    {
     "data": {
      "text/plain": [
       "28"
      ]
     },
     "execution_count": 2,
     "metadata": {},
     "output_type": "execute_result"
    }
   ],
   "source": [
    "def minha_lista_somada(lista):\n",
    "    return sum(lista)\n",
    "\n",
    "minha_lista_somada([5, 4, 8,7,4])"
   ]
  },
  {
   "cell_type": "code",
   "execution_count": 6,
   "metadata": {},
   "outputs": [
    {
     "data": {
      "text/plain": [
       "28"
      ]
     },
     "execution_count": 6,
     "metadata": {},
     "output_type": "execute_result"
    }
   ],
   "source": [
    "def soma_simplificada(*args):\n",
    "    return sum(args)\n",
    "\n",
    "soma_simplificada(5, 4, 8,7,4)"
   ]
  },
  {
   "cell_type": "code",
   "execution_count": 9,
   "metadata": {},
   "outputs": [
    {
     "name": "stdout",
     "output_type": "stream",
     "text": [
      "(3, 'Sopa', 4, 'Alow')\n",
      "{'nome': 'Aoba', 'idade': 45}\n"
     ]
    }
   ],
   "source": [
    "def metodo_kwargs(*args, **kwargs):\n",
    "    print(args)\n",
    "    print(kwargs)\n",
    "    \n",
    "metodo_kwargs(3, 'Sopa', 4, 'Alow', nome='Aoba', idade=45)"
   ]
  }
 ],
 "metadata": {
  "interpreter": {
   "hash": "5a5144c600fe733eb56476d039d50287f74ed68a6f7bfea1242be2f9714b1df5"
  },
  "kernelspec": {
   "display_name": "Python 3.8.10 64-bit (windows store)",
   "language": "python",
   "name": "python3"
  },
  "language_info": {
   "codemirror_mode": {
    "name": "ipython",
    "version": 3
   },
   "file_extension": ".py",
   "mimetype": "text/x-python",
   "name": "python",
   "nbconvert_exporter": "python",
   "pygments_lexer": "ipython3",
   "version": "3.8.10"
  },
  "orig_nbformat": 4
 },
 "nbformat": 4,
 "nbformat_minor": 2
}
